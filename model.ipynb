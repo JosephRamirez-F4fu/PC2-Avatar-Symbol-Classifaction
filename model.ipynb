{
 "cells": [
  {
   "cell_type": "code",
   "execution_count": null,
   "id": "initial_id",
   "metadata": {
    "collapsed": true
   },
   "outputs": [],
   "source": [
    "import matplotlib.pyplot as plt\n",
    "import numpy as np\n",
    "from keras.layers import Dense, Conv2D, MaxPool2D, Flatten, Dropout\n",
    "from keras.models import Sequential\n",
    "from keras.optimizers import SGD\n",
    "from skimage.transform import resize\n",
    "from sklearn.model_selection import train_test_split"
   ]
  },
  {
   "cell_type": "markdown",
   "source": [
    "# Load data"
   ],
   "metadata": {
    "collapsed": false
   },
   "id": "6cd87944d79ddcc0"
  },
  {
   "cell_type": "code",
   "execution_count": null,
   "outputs": [],
   "source": [
    "X_raw = np.load('X.npy')\n",
    "X_raw = X_raw / 255.\n",
    "y = np.load('y.npy')\n",
    "X = []\n",
    "size = (28, 28)\n",
    "for x in X_raw:\n",
    "    X.append(resize(x, size))\n",
    "X = np.array(X)"
   ],
   "metadata": {
    "collapsed": false
   },
   "id": "a4daef5fcec75222"
  },
  {
   "cell_type": "markdown",
   "source": [
    "# Show data"
   ],
   "metadata": {
    "collapsed": false
   },
   "id": "16ed8e4c787afce6"
  },
  {
   "cell_type": "code",
   "execution_count": null,
   "outputs": [],
   "source": [
    "plt.figure(figsize=(20, 10))\n",
    "for i in range(25):\n",
    "    plt.subplot(5, 5, i + 1)\n",
    "    idx = np.random.choice(X.shape[0], 1)[0]\n",
    "    plt.title('id:{} val:{}'.format(idx, y[idx]))\n",
    "    plt.imshow(-X[idx], cmap='gray')\n",
    "    plt.axis('off')\n",
    "plt.show()"
   ],
   "metadata": {
    "collapsed": false
   },
   "id": "b19f7cce00f4dfba"
  },
  {
   "cell_type": "markdown",
   "source": [
    "# Split data"
   ],
   "metadata": {
    "collapsed": false
   },
   "id": "9392424f579edaf"
  },
  {
   "cell_type": "code",
   "execution_count": null,
   "outputs": [],
   "source": [
    "X_train, X_test, y_train, y_test = train_test_split(X, y, test_size=0.20, random_state=42, stratify=y)\n",
    "if X_train.ndim == 3:\n",
    "    X_train = X_train[..., None]\n",
    "    X_test = X_test[..., None]\n",
    "    print(X_train.shape, X_test.shape)"
   ],
   "metadata": {
    "collapsed": false
   },
   "id": "7a867c01d1b2634c"
  },
  {
   "cell_type": "markdown",
   "source": [
    "# Create model"
   ],
   "metadata": {
    "collapsed": false
   },
   "id": "9b296ce36ef04d7e"
  },
  {
   "cell_type": "code",
   "execution_count": null,
   "outputs": [],
   "source": [
    "bs = 16\n",
    "lr = 0.0001\n",
    "class_mapping = {0: 'air', 1: 'fire', 2: 'water', 3: 'earth'}\n",
    "y_train = np.array([class_mapping[label] for label in y_train])\n",
    "y_test = np.array([class_mapping[label] for label in y_test])\n",
    "y_train = y_train.astype(int)\n",
    "y_test = y_test.astype(int)"
   ],
   "metadata": {
    "collapsed": false
   },
   "id": "f7a8d3fd79000c42"
  },
  {
   "cell_type": "code",
   "execution_count": null,
   "outputs": [],
   "source": [
    "model = Sequential([\n",
    "    Conv2D(32, 3, activation='relu', input_shape=(*size, 1)),\n",
    "    MaxPool2D(),\n",
    "    Conv2D(64, 3, activation='relu', padding='same'),\n",
    "    MaxPool2D(),\n",
    "    Conv2D(128, 3, activation='relu', padding='same'),\n",
    "    MaxPool2D(),\n",
    "    Conv2D(256, 3, activation='relu', padding='same'),\n",
    "    MaxPool2D(),\n",
    "    Flatten(),\n",
    "    Dense(256, activation='relu'),\n",
    "    Dropout(0.5),\n",
    "    Dense(128, activation='relu'),\n",
    "    Dropout(0.5),\n",
    "    Dense(3, activation='softmax')\n",
    "])"
   ],
   "metadata": {
    "collapsed": false
   },
   "id": "45e7527cb4704cbe"
  },
  {
   "cell_type": "code",
   "execution_count": null,
   "outputs": [],
   "source": [
    "optimizer1 = SGD(learning_rate=lr)\n",
    "model.compile(optimizer=optimizer1, loss='sparse_categorical_crossentropy', metrics=['accuracy'])\n",
    "model.summary()"
   ],
   "metadata": {
    "collapsed": false
   },
   "id": "a5c71d469ad72440"
  },
  {
   "cell_type": "markdown",
   "source": [
    "# Train model"
   ],
   "metadata": {
    "collapsed": false
   },
   "id": "287fd116678ba9d3"
  },
  {
   "cell_type": "code",
   "execution_count": null,
   "outputs": [],
   "source": [
    "log = model.fit(X_train, y_train, batch_size=bs, epochs=800, validation_data=(X_test, y_test))\n",
    "model.save('modelo_entrenado.h5')"
   ],
   "metadata": {
    "collapsed": false
   },
   "id": "7536bfe400b93123"
  },
  {
   "cell_type": "markdown",
   "source": [
    "# testing model"
   ],
   "metadata": {
    "collapsed": false
   },
   "id": "cee5be7b08a90ea6"
  },
  {
   "cell_type": "code",
   "execution_count": null,
   "outputs": [],
   "source": [
    "#Probando modelo\n",
    "etiqueta_a_symbols = {0: 'air', 1: 'fire', 2: 'water', 3: 'earth'}"
   ],
   "metadata": {
    "collapsed": false
   },
   "id": "b0c6618b1d2fa053"
  },
  {
   "cell_type": "code",
   "execution_count": null,
   "outputs": [],
   "source": [
    "idx = np.random.choice(X_test.shape[0], 1)[0]\n",
    "im = X_test[idx]\n",
    "label = y_test[idx]\n",
    "nombre_symbol = etiqueta_a_symbols.get(label, 'unknown')"
   ],
   "metadata": {
    "collapsed": false
   },
   "id": "e5506797e7394861"
  },
  {
   "cell_type": "code",
   "execution_count": null,
   "outputs": [],
   "source": [
    "plt.title('(test) id:{} val:{} ({})'.format(idx, label, nombre_symbol))\n",
    "plt.axis('off')\n",
    "plt.imshow(-im[:, :, 0], cmap='gray')\n",
    "plt.show()"
   ],
   "metadata": {
    "collapsed": false
   },
   "id": "2493bab6b9d44338"
  },
  {
   "cell_type": "code",
   "execution_count": null,
   "outputs": [],
   "source": [
    "#Usando el modelo\n",
    "salida = model.predict(im[None, :, :, :])[0]"
   ],
   "metadata": {
    "collapsed": false
   },
   "id": "82004eee01f1947f"
  },
  {
   "cell_type": "code",
   "execution_count": null,
   "outputs": [],
   "source": [
    "plt.figure()\n",
    "plt.title(\"Predicción: {} ({}), Label: {}\".format(salida.argmax(), nombre_symbol, label))\n",
    "plt.ylabel(\"Probabilidad\")\n",
    "plt.xlabel(\"Clase\")\n",
    "plt.ylim([0, 1])\n",
    "plt.bar(np.arange(len(salida)), salida)\n",
    "plt.show()"
   ],
   "metadata": {
    "collapsed": false
   },
   "id": "442962f0cd7ef085"
  }
 ],
 "metadata": {
  "kernelspec": {
   "display_name": "Python 3",
   "language": "python",
   "name": "python3"
  },
  "language_info": {
   "codemirror_mode": {
    "name": "ipython",
    "version": 2
   },
   "file_extension": ".py",
   "mimetype": "text/x-python",
   "name": "python",
   "nbconvert_exporter": "python",
   "pygments_lexer": "ipython2",
   "version": "2.7.6"
  }
 },
 "nbformat": 4,
 "nbformat_minor": 5
}
