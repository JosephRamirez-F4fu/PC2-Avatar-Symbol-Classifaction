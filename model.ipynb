{
 "cells": [
  {
   "cell_type": "code",
   "execution_count": null,
   "outputs": [],
   "source": [
    "import matplotlib.pyplot as plt\n",
    "import numpy as np\n",
    "from keras.layers import Dense, Conv2D, MaxPool2D, Flatten, Dropout\n",
    "from keras.models import Sequential\n",
    "from keras.optimizers import SGD,Adam\n",
    "from skimage.transform import resize\n",
    "from sklearn.model_selection import train_test_split"
   ],
   "metadata": {
    "collapsed": false
   },
   "id": "9a1ca52837142a5c"
  },
  {
   "cell_type": "markdown",
   "source": [
    "# Load data"
   ],
   "metadata": {
    "collapsed": false
   },
   "id": "ff516935927fc6f0"
  },
  {
   "cell_type": "code",
   "execution_count": null,
   "outputs": [],
   "source": [
    "X_raw = np.load('X.npy')\n",
    "X_raw = X_raw / 255.\n",
    "y = np.load('y.npy')\n",
    "X = []\n",
    "size = (64, 64)\n",
    "for x in X_raw:\n",
    "    X.append(resize(x, size))\n",
    "X = np.array(X)"
   ],
   "metadata": {
    "collapsed": false
   },
   "id": "583f2493a68b0828"
  },
  {
   "cell_type": "markdown",
   "source": [
    "# Show data"
   ],
   "metadata": {
    "collapsed": false
   },
   "id": "1a1ff9a496585fd2"
  },
  {
   "cell_type": "code",
   "execution_count": null,
   "outputs": [],
   "source": [
    "plt.figure(figsize=(20, 10))\n",
    "for i in range(25):\n",
    "    plt.subplot(5, 5, i + 1)\n",
    "    idx = np.random.choice(X.shape[0], 1)[0]\n",
    "    plt.title('id:{} val:{}'.format(idx, y[idx]))\n",
    "    plt.imshow(-X[idx], cmap='gray')\n",
    "    plt.axis('off')\n",
    "plt.show()"
   ],
   "metadata": {
    "collapsed": false
   },
   "id": "d6ea976a79197e9c"
  },
  {
   "cell_type": "markdown",
   "source": [
    "# Split data"
   ],
   "metadata": {
    "collapsed": false
   },
   "id": "2a461e236c3c7a04"
  },
  {
   "cell_type": "code",
   "execution_count": null,
   "outputs": [],
   "source": [
    "X_train, X_test, y_train, y_test = train_test_split(X, y, test_size=0.20, random_state=42, stratify=y)\n",
    "if X_train.ndim == 3:\n",
    "    X_train = X_train[..., None]\n",
    "    X_test = X_test[..., None]\n",
    "    print(X_train.shape, X_test.shape)"
   ],
   "metadata": {
    "collapsed": false
   },
   "id": "b1529b1bcba3da5d"
  },
  {
   "cell_type": "markdown",
   "source": [
    "# Create model"
   ],
   "metadata": {
    "collapsed": false
   },
   "id": "456bd116cd8145a5"
  },
  {
   "cell_type": "code",
   "execution_count": null,
   "outputs": [],
   "source": [
    "bs = 16\n",
    "lr = 0.0001\n",
    "\n",
    "class_mapping = {\n",
    "    'ma': 0, 'mb': 1, 'mc': 2, 'md': 3, 'me': 4, 'mf': 5, 'mg': 6, 'mh': 7, 'mi': 8, 'mj': 9,\n",
    "    'mk': 10, 'ml': 11, 'mm': 12, 'mn': 13, 'mo': 14, 'mp': 15, 'mq': 16, 'mr': 17, 'ms': 18, 'mt': 19,\n",
    "    'mu': 20, 'mv': 21, 'mw': 22, 'mx': 23, 'my': 24, 'mz': 25,\n",
    "    'ba': 26, 'bb': 27, 'bc': 28, 'bd': 29, 'be': 30, 'bf': 31, 'bg': 32, 'bh': 33, 'bi': 34, 'bj': 35,\n",
    "    'bk': 36, 'bl': 37, 'bm': 38, 'bn': 39, 'bo': 40, 'bp': 41, 'bq': 42, 'br': 43, 'bs': 44, 'bt': 45,\n",
    "    'bu': 46, 'bv': 47, 'bw': 48, 'bx': 49, 'by': 50, 'bz': 51\n",
    "}\n",
    "y_train = np.array([class_mapping[label] for label in y_train])\n",
    "y_test = np.array([class_mapping[label] for label in y_test])\n",
    "y_train = y_train.astype(int)\n",
    "y_test = y_test.astype(int)"
   ],
   "metadata": {
    "collapsed": false
   },
   "id": "3256410888b0a247"
  },
  {
   "cell_type": "code",
   "execution_count": null,
   "outputs": [],
   "source": [
    "from keras.src.layers import MaxPooling2D\n",
    "\n",
    "model = Sequential([\n",
    "    Conv2D(32, (3, 3), activation='relu', input_shape=(128, 128, 1)),\n",
    "    MaxPooling2D((2, 2)),\n",
    "    Dense(256, activation='relu'),\n",
    "    Conv2D(64, (3, 3), activation='relu'),\n",
    "    MaxPooling2D((2, 2)),\n",
    "    Conv2D(64, (3, 3), activation='relu'),\n",
    "    MaxPooling2D((2, 2)),\n",
    "    Conv2D(64, (3, 3), activation='relu'),\n",
    "    MaxPooling2D((2, 2)),\n",
    "    Conv2D(64, (3, 3), activation='relu'),\n",
    "    MaxPooling2D((2, 2)),\n",
    "    Dense(256, activation='relu'),\n",
    "    Flatten(),\n",
    "    Dense(256, activation='relu'),\n",
    "    Dropout(0.5),  \n",
    "    Dense(52, activation='softmax')  \n",
    "])"
   ],
   "metadata": {
    "collapsed": false
   },
   "id": "fed394b9aed2899f"
  },
  {
   "cell_type": "code",
   "execution_count": null,
   "outputs": [],
   "source": [
    "optimizer1 = Adam(learning_rate=lr)\n",
    "model.compile(optimizer=optimizer1, loss='sparse_categorical_crossentropy', metrics=['accuracy'])\n",
    "model.summary()"
   ],
   "metadata": {
    "collapsed": false
   },
   "id": "d6ac8b882dfff45d"
  },
  {
   "cell_type": "markdown",
   "source": [
    "# Train model"
   ],
   "metadata": {
    "collapsed": false
   },
   "id": "d14613915d94fd1f"
  },
  {
   "cell_type": "code",
   "execution_count": null,
   "outputs": [],
   "source": [
    "log = model.fit(X_train, y_train, batch_size=bs, epochs=100, validation_data=(X_test, y_test))\n",
    "model.save('model.keras')"
   ],
   "metadata": {
    "collapsed": false
   },
   "id": "628d78710b937e03"
  },
  {
   "cell_type": "markdown",
   "source": [
    "# testing model"
   ],
   "metadata": {
    "collapsed": false
   },
   "id": "1a840da3815669e0"
  },
  {
   "cell_type": "code",
   "execution_count": null,
   "outputs": [],
   "source": [
    "#Probando modelo\n",
    "\n",
    "etiqueta_a_symbols = {\n",
    "    0: 'ma', 1: 'mb', 2: 'mc', 3: 'md', 4: 'me', 5: 'mf', 6: 'mg', 7: 'mh', 8: 'mi', 9: 'mj',\n",
    "    10: 'mk', 11: 'ml', 12: 'mm', 13: 'mn', 14: 'mo', 15: 'mp', 16: 'mq', 17: 'mr', 18: 'ms', 19: 'mt',\n",
    "    20: 'mu', 21: 'mv', 22: 'mw', 23: 'mx', 24: 'my', 25: 'mz',\n",
    "    26: 'ba', 27: 'bb', 28: 'bc', 29: 'bd', 30: 'be', 31: 'bf', 32: 'bg', 33: 'bh', 34: 'bi', 35: 'bj',\n",
    "    36: 'bk', 37: 'bl', 38: 'bm', 39: 'bn', 40: 'bo', 41: 'bp', 42: 'bq', 43: 'br', 44: 'bs', 45: 'bt',\n",
    "    46: 'bu', 47: 'bv', 48: 'bw', 49: 'bx', 50: 'by', 51: 'bz'\n",
    "}"
   ],
   "metadata": {
    "collapsed": false
   },
   "id": "a99793203e920bc6"
  },
  {
   "cell_type": "code",
   "execution_count": null,
   "outputs": [],
   "source": [
    "idx = np.random.choice(X_test.shape[0], 1)[0]\n",
    "im = X_test[idx]\n",
    "label = y_test[idx]\n",
    "nombre_symbol = etiqueta_a_symbols.get(label, 'unknown')"
   ],
   "metadata": {
    "collapsed": false
   },
   "id": "484d2db428ad1619"
  },
  {
   "cell_type": "code",
   "execution_count": null,
   "outputs": [],
   "source": [
    "plt.title('(test) id:{} val:{} ({})'.format(idx, label, nombre_symbol))\n",
    "plt.axis('off')\n",
    "plt.imshow(-im[:, :, 0], cmap='gray')\n",
    "plt.show()"
   ],
   "metadata": {
    "collapsed": false
   },
   "id": "78e91e23d944a04d"
  },
  {
   "cell_type": "code",
   "execution_count": null,
   "outputs": [],
   "source": [
    "#Usando el modelo\n",
    "salida = model.predict(im[None, :, :, :])[0]"
   ],
   "metadata": {
    "collapsed": false
   },
   "id": "f939ad7031f5f8fb"
  },
  {
   "cell_type": "code",
   "execution_count": null,
   "outputs": [],
   "source": [
    "plt.figure()\n",
    "plt.title(\"Predicción: {} ({}), Label: {}\".format(salida.argmax(), nombre_symbol, label))\n",
    "plt.ylabel(\"Probabilidad\")\n",
    "plt.xlabel(\"Clase\")\n",
    "plt.ylim([0, 1])\n",
    "plt.bar(np.arange(len(salida)), salida)\n",
    "plt.show()"
   ],
   "metadata": {
    "collapsed": false
   },
   "id": "8c4c00211e3739d2"
  },
  {
   "cell_type": "code",
   "execution_count": null,
   "outputs": [],
   "source": [
    "predicciones = model.predict(X_test)\n",
    "etiquetas_predichas = np.argmax(predicciones, axis=1)\n"
   ],
   "metadata": {
    "collapsed": false
   },
   "id": "e0bbf3cefa0570ee"
  },
  {
   "cell_type": "code",
   "execution_count": null,
   "outputs": [],
   "source": [
    "from sklearn.metrics import accuracy_score\n"
   ],
   "metadata": {
    "collapsed": false
   },
   "id": "6c66c741663c1d42"
  },
  {
   "cell_type": "code",
   "execution_count": null,
   "outputs": [],
   "source": [
    "precision = accuracy_score(y_test, etiquetas_predichas)\n",
    "print(f'Precisión: {precision}')"
   ],
   "metadata": {
    "collapsed": false
   },
   "id": "ed0a60aed5861baf"
  },
  {
   "cell_type": "code",
   "execution_count": null,
   "outputs": [],
   "source": [],
   "metadata": {
    "collapsed": false
   },
   "id": "46cd83b7357e1bc8"
  },
  {
   "cell_type": "code",
   "execution_count": null,
   "outputs": [],
   "source": [
    "from sklearn.metrics import confusion_matrix\n",
    "\n",
    "matriz_confusion = confusion_matrix(y_test, etiquetas_predichas)\n",
    "print('Matriz de Confusión:')\n",
    "print(matriz_confusion)"
   ],
   "metadata": {
    "collapsed": false
   },
   "id": "4b46286874dc3ecd"
  }
 ],
 "metadata": {
  "kernelspec": {
   "display_name": "Python 3",
   "language": "python",
   "name": "python3"
  },
  "language_info": {
   "codemirror_mode": {
    "name": "ipython",
    "version": 2
   },
   "file_extension": ".py",
   "mimetype": "text/x-python",
   "name": "python",
   "nbconvert_exporter": "python",
   "pygments_lexer": "ipython2",
   "version": "2.7.6"
  }
 },
 "nbformat": 4,
 "nbformat_minor": 5
}
